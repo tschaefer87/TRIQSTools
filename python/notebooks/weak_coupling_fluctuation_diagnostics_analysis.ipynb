{
 "cells": [
  {
   "cell_type": "code",
   "execution_count": null,
   "metadata": {},
   "outputs": [],
   "source": [
    "import triqstools.tools as tools\n",
    "import triqstools.pytools as pytools\n",
    "from triqstools.pytools import print_mpi\n",
    "from pytriqs.gf import Gf, BlockGf, iOmega_n, Idx\n",
    "from pytriqs.gf import MeshBrillouinZone, MeshImFreq, MeshImTime, MeshProduct, MeshCyclicLattice, MeshPoint\n",
    "from pytriqs.lattice import BravaisLattice, BrillouinZone\n",
    "from pytriqs.archive import HDFArchive, hdf_archive_schemes\n",
    "from pytriqs.utility import mpi\n",
    "from pytriqs.lattice.tight_binding import TightBinding, dos\n",
    "from triqs_ctint import SolverCore\n",
    "import numpy as np\n",
    "from math import pi\n",
    "from math import sqrt\n",
    "from scipy.optimize import curve_fit, approx_fprime\n",
    "from scipy import polyfit, polyval, polyder\n",
    "\n",
    "from pytriqs.plot.mpl_interface import oplot, oploti, oplotr\n",
    "import matplotlib\n",
    "import matplotlib.pyplot as plt\n",
    "from matplotlib import cm\n",
    "get_ipython().magic(u'matplotlib inline')\n",
    "matplotlib.rcParams['lines.linewidth'] = 2\n",
    "matplotlib.rcParams['font.size'] = 48\n",
    "import h5py\n",
    "from numpy import matrix\n",
    "%matplotlib inline"
   ]
  },
  {
   "cell_type": "code",
   "execution_count": null,
   "metadata": {},
   "outputs": [],
   "source": [
    "input_file = \"weak_coupling_fluct_diag.h5\""
   ]
  },
  {
   "cell_type": "code",
   "execution_count": null,
   "metadata": {},
   "outputs": [],
   "source": [
    "with HDFArchive(input_file, 'r') as A:\n",
    "    beta     = A['beta']\n",
    "    n_k      = A['n_k']\n",
    "    k_mesh   = A['k_mesh']\n",
    "    n_q      = A['n_q']\n",
    "    q_mesh   = A['q_mesh']\n",
    "    Sigma    = A['Sigma']\n",
    "    Sigma_q  = A['Sigma_q']\n",
    "    Sigma_kp = A['Sigma_kp']"
   ]
  },
  {
   "cell_type": "code",
   "execution_count": null,
   "metadata": {},
   "outputs": [],
   "source": [
    "oploti(Sigma((pi,0,0),all), '-o', label=r'$\\mathbf{k}$=AN', color='red', x_window=(0,60/beta))\n",
    "oploti(Sigma((pi/2,pi/2,0),all), '-v', label=r'$\\mathbf{k}$=N', color='blue', x_window=(0,60/beta))\n",
    "\n",
    "plt.legend(loc=2, fontsize=14)\n",
    "plt.xlabel(r'$\\omega_{n}$', fontsize=18)\n",
    "plt.ylabel(r'Im $\\Sigma(\\mathbf{k}, i\\omega_{n})$', fontsize=16)\n",
    "plt.show()"
   ]
  },
  {
   "cell_type": "code",
   "execution_count": null,
   "metadata": {},
   "outputs": [],
   "source": [
    "k_lin = np.linspace(-pi, pi, n_k, endpoint=True)\n",
    "kx, ky = np.meshgrid(k_lin, k_lin)\n",
    "\n",
    "self_plot = lambda kx, ky: Sigma((kx,ky,0),0).imag\n",
    "\n",
    "plt.figure(figsize=(8,8))\n",
    "gs=plt.GridSpec(2,2)\n",
    "ax = plt.subplot(gs[1],aspect=\"equal\")\n",
    "plt.pcolormesh(kx, ky, np.vectorize(self_plot)(kx,ky))\n",
    "plt.colorbar(shrink=0.8)\n",
    "\n",
    "plt.axes\n",
    "ax.set_yticks([-np.pi,-np.pi/2.,0,np.pi/2,np.pi])\n",
    "ax.set_yticklabels([r\"$-\\pi$\",r\"$-\\frac{\\pi}{2}$\",\"0\",r\"$\\frac{\\pi}{2}$\",r\"$\\pi$\"],fontsize=16)\n",
    "ax.set_xticks([-np.pi,-np.pi/2.,0,np.pi/2,np.pi])\n",
    "ax.set_xticklabels([r\"$-\\pi$\",r\"$-\\frac{\\pi}{2}$\",\"0\",r\"$\\frac{\\pi}{2}$\",r\"$\\pi$\"],fontsize=16)\n",
    "plt.tight_layout(pad=0,w_pad=2,h_pad=0)\n",
    "plt.title(r'Im $\\Sigma(\\mathbf{k},i\\omega_{0})$',size=20)\n",
    "plt.show()"
   ]
  },
  {
   "cell_type": "code",
   "execution_count": null,
   "metadata": {},
   "outputs": [],
   "source": [
    "oploti(Sigma_q[:,Idx(k_mesh.locate_neighbours((pi,0,0))),:]((pi,pi,0),all), '-o', label=r'$\\mathbf{q}=(\\pi,\\pi)$', color='red', x_window=(0,60/beta))\n",
    "oploti(Sigma_q[:,Idx(k_mesh.locate_neighbours((pi,0,0))),:]((0,0,0),all), '-v', label=r'$\\mathbf{q}=(0,0)$', color='blue', x_window=(0,60/beta))\n",
    "\n",
    "plt.legend(loc=2, fontsize=14)\n",
    "plt.xlabel(r'$\\omega_{n}$', fontsize=18)\n",
    "plt.ylabel(r'Im $\\tilde{\\Sigma}_{\\mathbf{q}}(\\mathbf{k}=(\\pi,0), i\\omega_{n})$', fontsize=16)\n",
    "plt.show()"
   ]
  },
  {
   "cell_type": "code",
   "execution_count": null,
   "metadata": {},
   "outputs": [],
   "source": [
    "q_lin = np.linspace(0., 2.*pi, n_q, endpoint=True)\n",
    "qx, qy = np.meshgrid(q_lin, q_lin)\n",
    "\n",
    "self_plot = lambda qx, qy: Sigma_q[:,Idx(k_mesh.locate_neighbours((pi,0,0))),:]((qx,qy,0),0).imag\n",
    "\n",
    "plt.figure(figsize=(8,8))\n",
    "gs=plt.GridSpec(2,2)\n",
    "ax = plt.subplot(gs[1],aspect=\"equal\")\n",
    "plt.pcolormesh(qx, qy, np.vectorize(self_plot)(qx,qy))\n",
    "plt.colorbar(shrink=0.8)\n",
    "\n",
    "plt.axes\n",
    "plt.xlabel(r\"$q_{x}$\", fontsize=18)\n",
    "plt.ylabel(r\"$q_{y}$\", fontsize=18)\n",
    "ax.set_yticks([0.,np.pi/2.,np.pi,3*np.pi/2.,2*np.pi])\n",
    "ax.set_yticklabels([\"0\",r\"$\\frac{\\pi}{2}$\",r\"$\\pi$\",r\"$\\frac{3\\pi}{2}$\",\"$2\\pi$\"],fontsize=16)\n",
    "ax.set_xticks([0.,np.pi/2.,np.pi,3*np.pi/2.,2*np.pi])\n",
    "ax.set_xticklabels([\"0\",r\"$\\frac{\\pi}{2}$\",r\"$\\pi$\",r\"$\\frac{3\\pi}{2}$\",\"$2\\pi$\"],fontsize=16)\n",
    "plt.tight_layout(pad=0,w_pad=2,h_pad=0)\n",
    "plt.title(r'Im $\\tilde{\\Sigma}_{\\mathbf{q}}(\\mathbf{k}=(\\pi,0), i\\omega_{0})$',size=20)\n",
    "plt.show()"
   ]
  },
  {
   "cell_type": "code",
   "execution_count": null,
   "metadata": {},
   "outputs": [],
   "source": [
    "oploti(Sigma_kp[:,Idx(k_mesh.locate_neighbours((pi,0,0))),:]((pi,0,0),all), '-o', label=r\"$\\mathbf{k'}=(\\pi,0)$\", color='red', x_window=(0,60/beta))\n",
    "oploti(Sigma_kp[:,Idx(k_mesh.locate_neighbours((pi,0,0))),:]((pi/2,pi/2,0),all), '-v', label=r\"$\\mathbf{k'}=(\\pi/2,\\pi/2)$\", color='blue', x_window=(0,60/beta))\n",
    "\n",
    "plt.legend(loc=4, fontsize=14)\n",
    "plt.xlabel(r'$\\omega_{n}$', fontsize=18)\n",
    "plt.ylabel(r\"Im $\\tilde{\\Sigma}_{\\mathbf{k'}}(\\mathbf{k}=(\\pi,0), i\\omega_{n})$\", fontsize=16)\n",
    "plt.show()"
   ]
  },
  {
   "cell_type": "code",
   "execution_count": null,
   "metadata": {},
   "outputs": [],
   "source": [
    "k_lin = np.linspace(-pi, pi, n_k, endpoint=True)\n",
    "kx, ky = np.meshgrid(k_lin, k_lin)\n",
    "\n",
    "self_plot = lambda kx, ky: Sigma_kp[:,Idx(k_mesh.locate_neighbours((pi,0,0))),:]((kx,ky,0),0).imag\n",
    "\n",
    "plt.figure(figsize=(8,8))\n",
    "gs=plt.GridSpec(2,2)\n",
    "ax = plt.subplot(gs[1],aspect=\"equal\")\n",
    "plt.pcolormesh(kx, ky, np.vectorize(self_plot)(kx,ky))\n",
    "plt.colorbar(shrink=0.8)\n",
    "\n",
    "plt.axes\n",
    "plt.xlabel(r\"$k'_{x}$\", fontsize=18)\n",
    "plt.ylabel(r\"$k'_{y}$\", fontsize=18)\n",
    "ax.set_yticks([-np.pi,-np.pi/2.,0,np.pi/2,np.pi])\n",
    "ax.set_yticklabels([r\"$-\\pi$\",r\"$-\\frac{\\pi}{2}$\",\"0\",r\"$\\frac{\\pi}{2}$\",r\"$\\pi$\"],fontsize=16)\n",
    "ax.set_xticks([-np.pi,-np.pi/2.,0,np.pi/2,np.pi])\n",
    "ax.set_xticklabels([r\"$-\\pi$\",r\"$-\\frac{\\pi}{2}$\",\"0\",r\"$\\frac{\\pi}{2}$\",r\"$\\pi$\"],fontsize=16)\n",
    "plt.tight_layout(pad=0,w_pad=2,h_pad=0)\n",
    "plt.title(r\"Im $\\tilde{\\Sigma}_{\\mathbf{k'}}(\\mathbf{k}=(\\pi,0), i\\omega_{0})$\",size=20)\n",
    "plt.show()"
   ]
  },
  {
   "cell_type": "code",
   "execution_count": null,
   "metadata": {},
   "outputs": [],
   "source": [
    "oploti(Sigma_kp[:,Idx(k_mesh.locate_neighbours((pi/2,pi/2,0))),:]((pi,0,0),all), '-o', label=r\"$\\mathbf{k'}=(\\pi,0)$\", color='red', x_window=(0,60/beta))\n",
    "oploti(Sigma_kp[:,Idx(k_mesh.locate_neighbours((pi/2,pi/2,0))),:]((pi/2,pi/2,0),all), '-v', label=r\"$\\mathbf{k'}=(\\pi/2,\\pi/2)$\", color='blue', x_window=(0,60/beta))\n",
    "\n",
    "plt.legend(loc=4, fontsize=14)\n",
    "plt.xlabel(r'$\\omega_{n}$', fontsize=18)\n",
    "plt.ylabel(r\"Im $\\tilde{\\Sigma}_{\\mathbf{k'}}(\\mathbf{k}=(\\pi/2,\\pi/2), i\\omega_{n})$\", fontsize=16)\n",
    "plt.show()"
   ]
  },
  {
   "cell_type": "code",
   "execution_count": null,
   "metadata": {},
   "outputs": [],
   "source": [
    "k_lin = np.linspace(-pi, pi, n_k, endpoint=True)\n",
    "kx, ky = np.meshgrid(k_lin, k_lin)\n",
    "\n",
    "self_plot = lambda kx, ky: Sigma_kp[:,Idx(k_mesh.locate_neighbours((pi/2,pi/2,0))),:]((kx,ky,0),0).imag\n",
    "\n",
    "plt.figure(figsize=(8,8))\n",
    "gs=plt.GridSpec(2,2)\n",
    "ax = plt.subplot(gs[1],aspect=\"equal\")\n",
    "plt.pcolormesh(kx, ky, np.vectorize(self_plot)(kx,ky))\n",
    "plt.colorbar(shrink=0.8)\n",
    "\n",
    "plt.axes\n",
    "plt.xlabel(r\"$k'_{x}$\", fontsize=18)\n",
    "plt.ylabel(r\"$k'_{y}$\", fontsize=18)\n",
    "ax.set_yticks([-np.pi,-np.pi/2.,0,np.pi/2,np.pi])\n",
    "ax.set_yticklabels([r\"$-\\pi$\",r\"$-\\frac{\\pi}{2}$\",\"0\",r\"$\\frac{\\pi}{2}$\",r\"$\\pi$\"],fontsize=16)\n",
    "ax.set_xticks([-np.pi,-np.pi/2.,0,np.pi/2,np.pi])\n",
    "ax.set_xticklabels([r\"$-\\pi$\",r\"$-\\frac{\\pi}{2}$\",\"0\",r\"$\\frac{\\pi}{2}$\",r\"$\\pi$\"],fontsize=16)\n",
    "plt.tight_layout(pad=0,w_pad=2,h_pad=0)\n",
    "plt.title(r\"Im $\\tilde{\\Sigma}_{\\mathbf{k'}}(\\mathbf{k}=(\\pi/2,\\pi/2), i\\omega_{0})$\",size=18)\n",
    "plt.show()"
   ]
  },
  {
   "cell_type": "code",
   "execution_count": null,
   "metadata": {},
   "outputs": [],
   "source": []
  }
 ],
 "metadata": {
  "kernelspec": {
   "display_name": "Python 2",
   "language": "python",
   "name": "python2"
  },
  "language_info": {
   "codemirror_mode": {
    "name": "ipython",
    "version": 2
   },
   "file_extension": ".py",
   "mimetype": "text/x-python",
   "name": "python",
   "nbconvert_exporter": "python",
   "pygments_lexer": "ipython2",
   "version": "2.7.16"
  }
 },
 "nbformat": 4,
 "nbformat_minor": 2
}
