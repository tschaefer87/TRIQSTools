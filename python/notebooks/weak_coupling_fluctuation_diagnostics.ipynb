{
 "cells": [
  {
   "cell_type": "code",
   "execution_count": null,
   "metadata": {},
   "outputs": [],
   "source": [
    "import triqstools.tools as tools\n",
    "import triqstools.pytools as pytools\n",
    "from triqstools.pytools import print_mpi\n",
    "from pytriqs.gf import Gf, BlockGf, iOmega_n, Idx\n",
    "from pytriqs.gf import MeshBrillouinZone, MeshImFreq, MeshImTime, MeshProduct, MeshCyclicLattice, MeshPoint\n",
    "from pytriqs.lattice import BravaisLattice, BrillouinZone\n",
    "from pytriqs.archive import HDFArchive, hdf_archive_schemes\n",
    "from pytriqs.utility import mpi\n",
    "from pytriqs.lattice.tight_binding import TightBinding, dos\n",
    "from triqs_ctint import SolverCore\n",
    "import numpy as np\n",
    "from math import pi\n",
    "from math import sqrt\n",
    "from scipy.optimize import curve_fit, approx_fprime\n",
    "from scipy import polyfit, polyval, polyder"
   ]
  },
  {
   "cell_type": "code",
   "execution_count": null,
   "metadata": {},
   "outputs": [],
   "source": [
    "beta = 2.\n",
    "mu   = 0."
   ]
  },
  {
   "cell_type": "code",
   "execution_count": null,
   "metadata": {},
   "outputs": [],
   "source": [
    "n_iw = 4\n",
    "n_iW = 4\n",
    "n_k  = 4\n",
    "n_q  = 4"
   ]
  },
  {
   "cell_type": "code",
   "execution_count": null,
   "metadata": {},
   "outputs": [],
   "source": [
    "# define the Bravais lattice: a square lattice in 2d\n",
    "BL = BravaisLattice(units = [(1, 0), (0, 1)])\n",
    "\n",
    "# define the tight-binding model, i.e., the hopping parameters\n",
    "t = -1.0               # nearest neighbor hopping\n",
    "tp = -0.00*t           # next-nearest neighbor hopping\n",
    "\n",
    "# hopping[displacement on the lattice] = [[t11, t12, t13....], [t21, t22, t23....], ..., [...., tnn]] \n",
    "# where n=Number_Orbitals\n",
    "hop= {  (1, 0)  :  [[ t]],       \n",
    "        (-1, 0) :  [[ t]],     \n",
    "        (0, 1)  :  [[ t]], \n",
    "        (0, -1) :  [[ t]], \n",
    "        (1, 1)  :  [[ tp]], \n",
    "        (-1, -1):  [[ tp]], \n",
    "        (1, -1) :  [[ tp]], \n",
    "        (-1, 1) :  [[ tp]]}\n",
    "\n",
    "TB = TightBinding(BL, hop)"
   ]
  },
  {
   "cell_type": "code",
   "execution_count": null,
   "metadata": {},
   "outputs": [],
   "source": [
    "iw_mesh = MeshImFreq(beta, 'Fermion', n_iw)\n",
    "iW_mesh = MeshImFreq(beta, 'Boson', n_iW)\n",
    "iw_iW_mesh = MeshProduct(iw_mesh, iW_mesh)\n",
    "k_mesh = MeshBrillouinZone(BrillouinZone(BL), n_k)\n",
    "q_mesh = MeshBrillouinZone(BrillouinZone(BL), n_q)\n",
    "k_iw_mesh = MeshProduct(k_mesh, iw_mesh)\n",
    "q_iW_mesh = MeshProduct(q_mesh, iW_mesh)"
   ]
  },
  {
   "cell_type": "code",
   "execution_count": null,
   "metadata": {},
   "outputs": [],
   "source": [
    "G0 = pytools.make_G0(Gf(mesh=k_iw_mesh, target_shape=[]), TB, mu)"
   ]
  },
  {
   "cell_type": "code",
   "execution_count": null,
   "metadata": {},
   "outputs": [],
   "source": [
    "print_mpi(\"calculating total self-energy\")\n",
    "Sigma = tools.self_energy_weak_coupling(G0, q_mesh, iw_mesh, 2.0)"
   ]
  },
  {
   "cell_type": "code",
   "execution_count": null,
   "metadata": {},
   "outputs": [],
   "source": [
    "print_mpi(\"calculating bosonic fluctuation diagnostics for momentum\")\n",
    "Sigma_q = tools.self_energy_weak_coupling_bosonic_momentum(G0, q_mesh, iw_mesh, 2.0)"
   ]
  },
  {
   "cell_type": "code",
   "execution_count": null,
   "metadata": {},
   "outputs": [],
   "source": [
    "print_mpi(\"calculating bosonic fluctuation diagnostics for frequency\")\n",
    "Sigma_iW = tools.self_energy_weak_coupling_bosonic_frequency(G0, q_mesh, iW_mesh, 2.0)"
   ]
  },
  {
   "cell_type": "code",
   "execution_count": null,
   "metadata": {},
   "outputs": [],
   "source": [
    "print_mpi(\"calculating fermionic fluctuation diagnostics for momentum\")\n",
    "Sigma_kp = tools.self_energy_weak_coupling_fermionic_momentum(G0, q_mesh, iw_mesh, 2.0)"
   ]
  },
  {
   "cell_type": "code",
   "execution_count": null,
   "metadata": {},
   "outputs": [],
   "source": [
    "mpi.barrier()\n",
    "print_mpi(\"saving results\")\n",
    "if mpi.is_master_node():\n",
    "    with HDFArchive('weak_coupling_fluct_diag.h5', 'a') as A:\n",
    "        A['beta']     = beta\n",
    "        A['n_k']      = n_k\n",
    "        A['k_mesh']   = k_mesh\n",
    "        A['n_q']      = n_q\n",
    "        A['q_mesh']   = q_mesh\n",
    "        A['Sigma']    = Sigma\n",
    "        A['Sigma_q']  = Sigma_q\n",
    "        A['Sigma_kp'] = Sigma_kp\n",
    "        A['Sigma_iW'] = Sigma_iW"
   ]
  }
 ],
 "metadata": {
  "kernelspec": {
   "display_name": "Python 2",
   "language": "python",
   "name": "python2"
  },
  "language_info": {
   "codemirror_mode": {
    "name": "ipython",
    "version": 2
   },
   "file_extension": ".py",
   "mimetype": "text/x-python",
   "name": "python",
   "nbconvert_exporter": "python",
   "pygments_lexer": "ipython2",
   "version": "2.7.16"
  }
 },
 "nbformat": 4,
 "nbformat_minor": 2
}
